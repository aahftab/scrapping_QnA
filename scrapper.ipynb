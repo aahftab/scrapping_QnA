{
 "cells": [
  {
   "cell_type": "markdown",
   "metadata": {},
   "source": [
    "### Import libraries"
   ]
  },
  {
   "cell_type": "code",
   "execution_count": null,
   "metadata": {},
   "outputs": [],
   "source": [
    "from bs4 import BeautifulSoup as bs\n",
    "import requests"
   ]
  },
  {
   "cell_type": "markdown",
   "metadata": {},
   "source": [
    "### Load page"
   ]
  },
  {
   "cell_type": "code",
   "execution_count": 21,
   "metadata": {},
   "outputs": [],
   "source": [
    "url = 'https://darulifta-deoband.com/en/'\n",
    "page = requests.get(url)\n",
    "soup = bs(page.content, 'html.parser')\n",
    "soup.prettify()"
   ]
  },
  {
   "cell_type": "markdown",
   "metadata": {},
   "source": [
    "### Parse hrefs"
   ]
  },
  {
   "cell_type": "code",
   "execution_count": 15,
   "metadata": {},
   "outputs": [],
   "source": [
    "category_urls = []\n",
    "submenu = soup.find_all('ul', class_='sub_level_menu')\n",
    "for i in submenu:\n",
    "  ulsoup = bs(str(i), 'html.parser')\n",
    "  for j in ulsoup.find_all('a'):\n",
    "    category_urls.append(j.get('href'))\n",
    "\n",
    "category_urls"
   ]
  },
  {
   "cell_type": "markdown",
   "metadata": {},
   "source": [
    "### List all questions link"
   ]
  },
  {
   "cell_type": "code",
   "execution_count": 17,
   "metadata": {},
   "outputs": [],
   "source": [
    "question_url_set = set()\n",
    "for category_url in category_urls:\n",
    "  page_no = 1\n",
    "  print(\"category = \",category_url)\n",
    "\n",
    "  while True:\n",
    "    questions_page = requests.get(f'{category_url}?page={page_no}')\n",
    "    questions_soup = bs(questions_page.content, 'html.parser')\n",
    "    question_urls = questions_soup.find_all(class_ = 'questions_list')[0]\n",
    "\n",
    "    if len(list(question_urls.children)) == 1:\n",
    "      break\n",
    "\n",
    "    print(\"page_no = \",page_no)\n",
    "    a_tags = question_urls.findAll('a')\n",
    "\n",
    "    for j in a_tags:\n",
    "      question_url_set.add(j.get('href'))\n",
    "\n",
    "    print(f'Total questions = {len(question_url_set)}')\n",
    "    page_no+=1\n"
   ]
  },
  {
   "cell_type": "markdown",
   "metadata": {},
   "source": [
    "### Save to file"
   ]
  },
  {
   "cell_type": "code",
   "execution_count": 10,
   "metadata": {},
   "outputs": [],
   "source": [
    "import json\n",
    "\n",
    "with open(\"question_url_set.json\", \"w\") as file:\n",
    "  json.dump(list(question_url_set), file)"
   ]
  }
 ],
 "metadata": {
  "kernelspec": {
   "display_name": "Python 3",
   "language": "python",
   "name": "python3"
  },
  "language_info": {
   "codemirror_mode": {
    "name": "ipython",
    "version": 3
   },
   "file_extension": ".py",
   "mimetype": "text/x-python",
   "name": "python",
   "nbconvert_exporter": "python",
   "pygments_lexer": "ipython3",
   "version": "3.13.0"
  }
 },
 "nbformat": 4,
 "nbformat_minor": 2
}
