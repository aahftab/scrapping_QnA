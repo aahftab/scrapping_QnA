{
 "cells": [
  {
   "cell_type": "code",
   "execution_count": null,
   "metadata": {},
   "outputs": [
    {
     "ename": "",
     "evalue": "",
     "output_type": "error",
     "traceback": [
      "\u001b[1;31mRunning cells with 'Python 3.13.0' requires the ipykernel package.\n",
      "\u001b[1;31mRun the following command to install 'ipykernel' into the Python environment. \n",
      "\u001b[1;31mCommand: '/opt/homebrew/bin/python3 -m pip install ipykernel -U --user --force-reinstall'"
     ]
    }
   ],
   "source": [
    "from bs4 import BeautifulSoup as bs\n",
    "import requests"
   ]
  },
  {
   "cell_type": "code",
   "execution_count": null,
   "metadata": {},
   "outputs": [
    {
     "ename": "",
     "evalue": "",
     "output_type": "error",
     "traceback": [
      "\u001b[1;31mRunning cells with 'Python 3.13.0' requires the ipykernel package.\n",
      "\u001b[1;31mRun the following command to install 'ipykernel' into the Python environment. \n",
      "\u001b[1;31mCommand: '/opt/homebrew/bin/python3 -m pip install ipykernel -U --user --force-reinstall'"
     ]
    }
   ],
   "source": []
  },
  {
   "cell_type": "code",
   "execution_count": 21,
   "metadata": {},
   "outputs": [],
   "source": [
    "url = 'https://darulifta-deoband.com/en/'\n",
    "page = requests.get(url)\n",
    "soup = bs(page.content, 'html.parser')"
   ]
  },
  {
   "cell_type": "code",
   "execution_count": 22,
   "metadata": {},
   "outputs": [
    {
     "data": {
      "text/plain": [
       "'<!DOCTYPE html>\\n<html lang=\"en-US\">\\n <head>\\n  <title>\\n   Just a moment...\\n  </title>\\n  <meta content=\"text/html; charset=utf-8\" http-equiv=\"Content-Type\"/>\\n  <meta content=\"IE=Edge\" http-equiv=\"X-UA-Compatible\"/>\\n  <meta content=\"noindex,nofollow\" name=\"robots\"/>\\n  <meta content=\"width=device-width,initial-scale=1\" name=\"viewport\"/>\\n  <style>\\n   *{box-sizing:border-box;margin:0;padding:0}html{line-height:1.15;-webkit-text-size-adjust:100%;color:#313131;font-family:system-ui,-apple-system,BlinkMacSystemFont,Segoe UI,Roboto,Helvetica Neue,Arial,Noto Sans,sans-serif,Apple Color Emoji,Segoe UI Emoji,Segoe UI Symbol,Noto Color Emoji}body{display:flex;flex-direction:column;height:100vh;min-height:100vh}.main-content{margin:8rem auto;max-width:60rem;padding-left:1.5rem}@media (width <= 720px){.main-content{margin-top:4rem}}.h2{font-size:1.5rem;font-weight:500;line-height:2.25rem}@media (width <= 720px){.h2{font-size:1.25rem;line-height:1.5rem}}#challenge-error-text{background-image:url(data:image/svg+xml;base64,PHN2ZyB4bWxucz0iaHR0cDovL3d3dy53My5vcmcvMjAwMC9zdmciIHdpZHRoPSIzMiIgaGVpZ2h0PSIzMiIgZmlsbD0ibm9uZSI+PHBhdGggZmlsbD0iI0IyMEYwMyIgZD0iTTE2IDNhMTMgMTMgMCAxIDAgMTMgMTNBMTMuMDE1IDEzLjAxNSAwIDAgMCAxNiAzbTAgMjRhMTEgMTEgMCAxIDEgMTEtMTEgMTEuMDEgMTEuMDEgMCAwIDEtMTEgMTEiLz48cGF0aCBmaWxsPSIjQjIwRjAzIiBkPSJNMTcuMDM4IDE4LjYxNUgxNC44N0wxNC41NjMgOS41aDIuNzgzem0tMS4wODQgMS40MjdxLjY2IDAgMS4wNTcuMzg4LjQwNy4zODkuNDA3Ljk5NCAwIC41OTYtLjQwNy45ODQtLjM5Ny4zOS0xLjA1Ny4zODktLjY1IDAtMS4wNTYtLjM4OS0uMzk4LS4zODktLjM5OC0uOTg0IDAtLjU5Ny4zOTgtLjk4NS40MDYtLjM5NyAxLjA1Ni0uMzk3Ii8+PC9zdmc+);background-repeat:no-repeat;background-size:contain;padding-left:34px}@media (prefers-color-scheme:dark){body{background-color:#222;color:#d9d9d9}}\\n  </style>\\n  <meta content=\"390\" http-equiv=\"refresh\"/>\\n </head>\\n <body class=\"no-js\">\\n  <div class=\"main-wrapper\" role=\"main\">\\n   <div class=\"main-content\">\\n    <noscript>\\n     <div class=\"h2\">\\n      <span id=\"challenge-error-text\">\\n       Enable JavaScript and cookies to continue\\n      </span>\\n     </div>\\n    </noscript>\\n   </div>\\n  </div>\\n  <script>\\n   (function(){window._cf_chl_opt={cvId: \\'3\\',cZone: \"darulifta-deoband.com\",cType: \\'managed\\',cNounce: \\'90417\\',cRay: \\'8cf72babfbdf5d66\\',cHash: \\'41827f679e4a997\\',cUPMDTk: \"\\\\/en\\\\/?__cf_chl_tk=1062UU5n4OwrVbrz.GA.V7CJjRGzajy5bs0P4xw84JM-1728401409-0.0.1.1-4286\",cFPWv: \\'b\\',cTTimeMs: \\'1000\\',cMTimeMs: \\'390000\\',cTplV: 5,cTplB: \\'cf\\',cK: \"\",fa: \"\\\\/en\\\\/?__cf_chl_f_tk=1062UU5n4OwrVbrz.GA.V7CJjRGzajy5bs0P4xw84JM-1728401409-0.0.1.1-4286\",md: \"iIMzrRLuS19z9YX.V3QSZsXl8d63Z04sRwWvFM5RErw-1728401409-1.1.1.1-xET7DIERZRm678PQ.WJf0I9yA77a.OpMcXB4lQvhxAioHMMFqvBAdvHfIeLYvEHbLOePXcjBS3_3x04XNcM92_dCgrsXJax7SbSVsSvwk3GYVhvJN_sb8_FL_HUJMBjlyixWmiKCOI1lZwwY_0i1RIEc5QzL5b7KlzQA13grL1prICXN9t6iQW4mYHx0mS8achoMpuR.3ednhmPU53_CZJiw9JYdS8Y6HjI.wOxTnhnRon1Zw_qfAT7D_0XN19Zlymz0KYQUcV4yKJz9WnUXEJHMOzfuKdNcRqfXg.RI.uBuBJByF6lYnCaEZa12StabcgJQSL_P_lM_zHeP8Gq8W1MWAOMrpAqDyuXH0ZcxgjzKbYKSLIxWx29R8sL7JPWZm2DYUPNEaFadepCQJ91gB48HXeQnXt.3_JHc2dHVs9AL.Q6jxWs1hbNLhkbrlEukv6KMsKGzPXU43XTwibdIuKue_ZzTnxSSzigQi7gU.vHUv79IiA9jRykLVZxyFbg9ZIfk8HfrZJGsgshttv45Ocxrzo01knq9Dsl_oUPg0lEpCdIJYdr3uxsalN8hkAgKbDoQNFH4RZXzdh.F0B2PMTR.GcybIATo2KmaNVW5J5g6eG4X17M.84xXx71GcgM2xfKfBPCG9HzEcUHSQTDkkqnIDBz8JFsNSkTicpSWLg3_UnCMEDLnmzAKMnKKEsh03U0WOB6t4fLmU5sYwRxk_PBXvnqmQtbycFbSIKSjOHxlpraR7g3g0AuchvkclAcQKoRWWmfgZTqF19asSn8ZWYndBrTixTd9yDANJNNvdJ2_d3Q7aOeGX1ZRVqfKwgz4_mXpDql1jiJMoohS3YFuSWqCOGxnO5i5M26eH1MdyJrs4dC7gC8LMVt7FNVaUtXU_BWWt835d_uCb0fzOXGHp.ahhRnwiKm_8_yIzY5iZGFVSEcYa0r3HWe.3gewL8_RLZM4s4VGL83fmD7FY4BlDLM4POd0RvsKB6aiq2EKjFpcXxGh9QeFzRiP3K1abCeyYX_Mqhn9B167miFFo.lkNBKUanS8A8WUWg_I_NYFgJ9xdKjBA85b6knqZATBUXDI2NCIHaFMlcwjFhilZf9JoEcJ3p7mcUkcoCnnzLKMOflGke4l3K_KHt0vfDzW2B0SB9sCnznMEoiBgxyzIOn.HhY4k0pInjLwZR2K9HJ99pgmNNw.HNpDla_bbEPvMC8JlE3UT.7YzqXJ4CMKGxcmLGJMaljlrUCopgpg9Joy0YiVD5m0jpEyYCICdDSbsKeFg9OJzv_sEu3PKk2QKdrujR566EEw5lKctDVGiOU4Bw6Lk1FCJ0.P.3HAi1WKjskCtuuyrV.ghncCZHHBIu1om2ir2QIAOPts0YhbyeSPxlLl1zp5fJ9mdXZBhCyhxqOlfoOubNMqPxpM6yGGXJyq5PP3m0YYLXzWnukDXqlYrOduIZaK75hCtRQHZOw1hkQpEhh0QQqRVx3v8NYmgsNuk2XTwjzrW7h8VQiJWWeSgLwZ4COdM1vEAxzxeSjLCQJ_Wm2QOl881kKdzjAVnyPRfOhVPNiJROeIw08eD6nDMegBYrZ1yh7GKo3ncclvnlC.QSsreCB9hcRq1JlF1dehbaDlBw_dqT3O0XOf_rgAE0H7N8mBBYxac3MMx7l.IaC.6tS8LDt90gi63Ri4FR21HO37wgWqBLlMsbbfwtI1wXCfhSs2iB.KG3AatKnjBXR3zT2rykZCfAH2YdCuOQK8Wd0ON.NklH1NP4UhpqjQXhFJz67xkRnyyP0TPXcO4L5lsaqj6ajdpvHMgGNG3g72VJh7oVY0x2E47eC0QAq94_6ytO..WEJuNYEKJnj3oMnZ8U9YoAGMCNhFvaWRiwzNk5hlzrK.5jpIHlxenGNyJ2YooiIySqCb8STIaHbZPhXwR4bIAqLuz42GPdGvjOommX4x091_Gk45nb1lZUm7FrMIxcMpgbfV4fvCk8v1jHAW\",mdrd: \"axKPpijUemKpU3lzSq8ZaFag3XBR_nVf1RX6OLi5F0s-1728401409-1.1.1.1-NtQzpQ77aA1inaH.Iqp_0EWji0If_0waUqSOqyGLiEd40NZvcq.cQP_hlFT05ogKVfyuCrU7NdJlX.B_kMt01Jx95Ir8jR_UItpMHJSA.n9jR8HAlfh3UE.h0pg.fAUNKPgs_nO9Yv.aAuITzzuxQ0WfuQ69JUT7MKFIjnF70omRuqIxNdP63p2.cJozLk87juKtdMFAqisyZWOU03_P_bN4IIgcyGL5AsV4BzeKxaaufDgzFxZC.jRryaHvBlNQx3_Cesu29.PV8HSm0ZirdDTbH_YWPLIDladklK.Rr8iSBjI_6akv5L9C.qfK5EAftvyzjp8Sv1krxbdp.a3MGj0xWcPkVyryYW7z7OSfXZUttXNuhx0hmc.O4aDBh.mDwyyEs74_NFfJOuXhjXqP9z4_KeyPf3scEfRcKTyEUkhETJKRHBYXSrrVd3N.F.TvCsMdI33pLWXBCu8.e.vWqtuI6SLSKe31QwPIzYOzBlzpwJG9Dcl0v3k1aMJ4dWEDLD_FmNakOM0r_33HXntt1oAETiZV2UmMYYObvLQsfc4jbgi0V0iRHbnfXO2keFvZCdvwLn6JM0DyihJRw_n8_Axzx9FD4ZYIvc5Q177gvwmaIrxWp_BeKR6zE1A10t23Tj5ndY0tDuVFxqgrPclTHKARNyhwB.AuMWpNQNtWC2eri8vTr1kMZ5AVC0Xg9QlV0WLqZYAoYf6ri8XhvuKRgTfkBmnQ_hLRAIQV5vaTYPmQTZecbGnNgUL5nfBMdPiln8koWcafRH2_leLkdThHF7YXMK0xbVaIcTqWsEt18SYDMl59c5hsX5FnT1bloH2cfxSP3zjUGAamFoGSoJZUfG39Yc75kbE234Dy1LybsFKqazJQZtWqehmBAvN65rJ_G8UE4bCLjH8z_f5RSuNjY.ZQWNPNePu2kuAdUy6y81QfPOi36HV9A6d9_CU6Si8fpl6S9FzxVH4gi0ZyU2b.1DrzRGumLcuMaiYRkb2cnxKfUF59b1jNYL32UOR.mV8SlwdDUpN6EI4R1I3MZrAqIr8BI7pE1SmROmopI.FV_tNlnv5RAKpYSs5wPrKMmN46nqFc_W9kVW523N8BzB0vx55AGPf9.GaXhd00kD3iG9bXvVAtKoY3Zl6qSMhwPllA3VuV5aCxFs00kyfBlyWr2iGLLuKxr88cMmniswU9zM_3WVWBo5kpZpzfdLdgbT3VmGJrXwxAEH.Hf4zYh.bFeHjRlLl0gZJ9CciYQoXGyGyqeJv1emRmEcuMYszOH8W0DfeIkJv9Cm.hsMLdaRzcyuGD1te6vHeh38yHyB1pBf41_4sgvR1xsqTotTXkIurbUxzfkVWh.Z6vFHtHP0HXiQMr7AITw4BOuqGc1EoL794u2eWwTDPRLMwCUXq5DSRnbHmncbQkvFrPC6q.tafnyNqTmIXAwgHJCUGJyq9XPlqR9SJMUDlOIvau.y5iSBr01I3LYoHGeaXjZZzxq3Y8vQ7T162dLWD0GiKtCnl_9YP1rRuPyhgxt8AlmmI2Kcou_vpqBd2e2j6.roHmcitBBFnQgeIbUTFs6sl8SNtygJ0A4RNz8b0ars3I8LaW2pI85GkbSibOiHairXQbi895GWGY3wsZqctnSxsmhr55_oO8JVHJO9gfrpBDkpScmNBnNuvoTBeDoQl3NNo2sm.E0WmFAeDSxCSCtYQJLd2gbUqsYP2yy2xLY0JWMZI65MQxLpT8frYGAT7dZKYrp1UEIHjrreMTcd_4pbNepoE_ha61P0mkbi8bC9AVKl6Zr9Cp6lpt1IciTTtrcIHkKNZFkNseegnVqMEthQYDmmtFG2DDubpPbdTerSbJTnRN7QdtBjjOWMpSGAjoN_VYwZ6OMdtR_jpSw.BpVRicEIlw7ek5Qni8dYypX6i1rx3N.qwPbMv8TliDkbIDqi.1ezsBoCNxKzeA1Z5vNBuf1gQoBvqTwq8El.5PWXWNvt1kuc5ItVTgcba_735DucmVhBq77KgzTIfKzbplH3W1a4GNDWqn1nfJv3kXh1uoa9Jiu71OHOJtZYkVFCfWvgaItbgUER6iaw0kzLgx.aHMaRv12pz5st5Ek6VGDGiaIfRwzdxieojIPxWscoKLfL09rZAmKkLoUgpnnJgn0Pyg0wUhNlwNezRaYvgNLG.bY2lqGSGD\",cRq: {ru: \\'aHR0cHM6Ly9kYXJ1bGlmdGEtZGVvYmFuZC5jb20vZW4v\\',ra: \\'cHl0aG9uLXJlcXVlc3RzLzIuMzIuMw==\\',d: \\'RSDgagL+Al28z8QbUbU87vr+yRXN7HZe31wCCj7UfIPo2tH4aDOqGPXfeaTGxQW8k1nNbekxYdniVHwDYYfzTa9H0++kDNP4r3ANOuCCZ7HN5r5Ljfbch2B7QM3sCgLPGF+kjneDcG015Zx1kvmIQ56YZ64kh8ZqYFI4m/sHV/oZYw+SOM1bHaTI9mUhwEJUIpsf3HQpcj7hkG/qGoiBJIUhW73bzX7SVcsYyyh9mudk6pjHNohtSCju2VV4CLbtFfuxaM+gQJEmweGYrsN//Z8BXHPzkpiEsEHbjA/759qEpVCFg2/tkHy7gkVhrWEahEoOk99L2Y426Aj+nlKQfHV27O6S/jdFDGzFL4xvAOS2OqHJcbUS5XFdyM5L19yA9sVIV8Wg5ogrQf7lWf/di48hMwq88+nykrTN32mLcAvKZb1SRawvjCCIZdr+s5iwY8IqZtKzX/USwusO9ZCMW36QtH94eV8fDNkPxjD7M8CBHK3r9SWaOGSzABHu2qPm\\',t: \\'MTcyODQwMTQwOS4wMDAwMDA=\\',cT: Math.floor(Date.now() / 1000),m: \\'uPmQR0URcIejuX/1DomTcurX2FGZ2X/RE52QMVPZ2BU=\\',i1: \\'7qQS5FgqvVUy0L+UmbryHg==\\',i2: \\'PytYHxK7tutufJ6ja/iEJw==\\',zh: \\'FIVSIBz1KDudm/9nyjRp90byub9917777x1kF7kPaFw=\\',uh: \\'CiATXs0R4tTCmAZrIKJMI0mbciEXZbJB6weC9NLv1LY=\\',hh: \\'m0QY3T2XGIf6/cqE3YRfvD7+5iGh+u8G3ko/GxwweJ8=\\',}};var cpo = document.createElement(\\'script\\');cpo.src = \\'/cdn-cgi/challenge-platform/h/b/orchestrate/chl_page/v1?ray=8cf72babfbdf5d66\\';window._cf_chl_opt.cOgUHash = location.hash === \\'\\' && location.href.indexOf(\\'#\\') !== -1 ? \\'#\\' : location.hash;window._cf_chl_opt.cOgUQuery = location.search === \\'\\' && location.href.slice(0, location.href.length - window._cf_chl_opt.cOgUHash.length).indexOf(\\'?\\') !== -1 ? \\'?\\' : location.search;if (window.history && window.history.replaceState) {var ogU = location.pathname + window._cf_chl_opt.cOgUQuery + window._cf_chl_opt.cOgUHash;history.replaceState(null, null, \"\\\\/en\\\\/?__cf_chl_rt_tk=1062UU5n4OwrVbrz.GA.V7CJjRGzajy5bs0P4xw84JM-1728401409-0.0.1.1-4286\" + window._cf_chl_opt.cOgUHash);cpo.onload = function() {history.replaceState(null, null, ogU);}}document.getElementsByTagName(\\'head\\')[0].appendChild(cpo);}());\\n  </script>\\n </body>\\n</html>\\n'"
      ]
     },
     "execution_count": 22,
     "metadata": {},
     "output_type": "execute_result"
    }
   ],
   "source": [
    "soup.prettify()"
   ]
  },
  {
   "cell_type": "code",
   "execution_count": 14,
   "metadata": {},
   "outputs": [],
   "source": [
    "submenu = soup.find_all('ul', class_='sub_level_menu')"
   ]
  },
  {
   "cell_type": "code",
   "execution_count": 15,
   "metadata": {},
   "outputs": [],
   "source": [
    "category_urls = []\n",
    "\n",
    "for i in submenu:\n",
    "  ulsoup = bs(str(i), 'html.parser')\n",
    "  for j in ulsoup.find_all('a'):\n",
    "    category_urls.append(j.get('href'))"
   ]
  },
  {
   "cell_type": "code",
   "execution_count": 16,
   "metadata": {},
   "outputs": [
    {
     "data": {
      "text/plain": [
       "[]"
      ]
     },
     "execution_count": 16,
     "metadata": {},
     "output_type": "execute_result"
    }
   ],
   "source": [
    "category_urls"
   ]
  },
  {
   "cell_type": "code",
   "execution_count": 17,
   "metadata": {},
   "outputs": [],
   "source": [
    "question_url_set = set()\n",
    "for category_url in category_urls:\n",
    "  page_no = 1\n",
    "  print(\"category = \",category_url)\n",
    "\n",
    "  while True:\n",
    "    questions_page = requests.get(f'{category_url}?page={page_no}')\n",
    "    questions_soup = bs(questions_page.content, 'html.parser')\n",
    "    question_urls = questions_soup.find_all(class_ = 'questions_list')[0]\n",
    "\n",
    "    if len(list(question_urls.children)) == 1:\n",
    "      break\n",
    "\n",
    "    print(\"page_no = \",page_no)\n",
    "    a_tags = question_urls.findAll('a')\n",
    "\n",
    "    for j in a_tags:\n",
    "      question_url_set.add(j.get('href'))\n",
    "\n",
    "    print(f'Total questions = {len(question_url_set)}')\n",
    "    page_no+=1\n"
   ]
  },
  {
   "cell_type": "code",
   "execution_count": 10,
   "metadata": {},
   "outputs": [],
   "source": [
    "import json\n",
    "\n",
    "with open(\"question_url_set.json\", \"w\") as file:\n",
    "  json.dump(list(question_url_set), file)"
   ]
  }
 ],
 "metadata": {
  "kernelspec": {
   "display_name": "Python 3",
   "language": "python",
   "name": "python3"
  },
  "language_info": {
   "codemirror_mode": {
    "name": "ipython",
    "version": 3
   },
   "file_extension": ".py",
   "mimetype": "text/x-python",
   "name": "python",
   "nbconvert_exporter": "python",
   "pygments_lexer": "ipython3",
   "version": "3.13.0"
  }
 },
 "nbformat": 4,
 "nbformat_minor": 2
}
